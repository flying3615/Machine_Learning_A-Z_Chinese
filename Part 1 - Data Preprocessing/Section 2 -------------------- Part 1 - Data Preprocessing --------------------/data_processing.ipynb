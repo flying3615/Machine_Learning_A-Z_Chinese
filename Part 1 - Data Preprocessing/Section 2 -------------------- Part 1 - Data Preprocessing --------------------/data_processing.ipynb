{
 "cells": [
  {
   "cell_type": "code",
   "execution_count": 108,
   "outputs": [],
   "source": [
    "import numpy as np\n",
    "import matplotlib as plt\n",
    "import pandas as pd"
   ],
   "metadata": {
    "collapsed": false,
    "pycharm": {
     "name": "#%%\n"
    }
   }
  },
  {
   "cell_type": "markdown",
   "source": [
    "导入数据集"
   ],
   "metadata": {
    "collapsed": false
   }
  },
  {
   "cell_type": "code",
   "execution_count": 109,
   "outputs": [
    {
     "data": {
      "text/plain": "   Country   Age   Salary Purchased\n0   France  44.0  72000.0        No\n1    Spain  27.0  48000.0       Yes\n2  Germany  30.0  54000.0        No\n3    Spain  38.0  61000.0        No\n4  Germany  40.0      NaN       Yes\n5   France  35.0  58000.0       Yes\n6    Spain   NaN  52000.0        No\n7   France  48.0  79000.0       Yes\n8  Germany  50.0  83000.0        No\n9   France  37.0  67000.0       Yes",
      "text/html": "<div>\n<style scoped>\n    .dataframe tbody tr th:only-of-type {\n        vertical-align: middle;\n    }\n\n    .dataframe tbody tr th {\n        vertical-align: top;\n    }\n\n    .dataframe thead th {\n        text-align: right;\n    }\n</style>\n<table border=\"1\" class=\"dataframe\">\n  <thead>\n    <tr style=\"text-align: right;\">\n      <th></th>\n      <th>Country</th>\n      <th>Age</th>\n      <th>Salary</th>\n      <th>Purchased</th>\n    </tr>\n  </thead>\n  <tbody>\n    <tr>\n      <th>0</th>\n      <td>France</td>\n      <td>44.0</td>\n      <td>72000.0</td>\n      <td>No</td>\n    </tr>\n    <tr>\n      <th>1</th>\n      <td>Spain</td>\n      <td>27.0</td>\n      <td>48000.0</td>\n      <td>Yes</td>\n    </tr>\n    <tr>\n      <th>2</th>\n      <td>Germany</td>\n      <td>30.0</td>\n      <td>54000.0</td>\n      <td>No</td>\n    </tr>\n    <tr>\n      <th>3</th>\n      <td>Spain</td>\n      <td>38.0</td>\n      <td>61000.0</td>\n      <td>No</td>\n    </tr>\n    <tr>\n      <th>4</th>\n      <td>Germany</td>\n      <td>40.0</td>\n      <td>NaN</td>\n      <td>Yes</td>\n    </tr>\n    <tr>\n      <th>5</th>\n      <td>France</td>\n      <td>35.0</td>\n      <td>58000.0</td>\n      <td>Yes</td>\n    </tr>\n    <tr>\n      <th>6</th>\n      <td>Spain</td>\n      <td>NaN</td>\n      <td>52000.0</td>\n      <td>No</td>\n    </tr>\n    <tr>\n      <th>7</th>\n      <td>France</td>\n      <td>48.0</td>\n      <td>79000.0</td>\n      <td>Yes</td>\n    </tr>\n    <tr>\n      <th>8</th>\n      <td>Germany</td>\n      <td>50.0</td>\n      <td>83000.0</td>\n      <td>No</td>\n    </tr>\n    <tr>\n      <th>9</th>\n      <td>France</td>\n      <td>37.0</td>\n      <td>67000.0</td>\n      <td>Yes</td>\n    </tr>\n  </tbody>\n</table>\n</div>"
     },
     "execution_count": 109,
     "metadata": {},
     "output_type": "execute_result"
    }
   ],
   "source": [
    "dataset = pd.read_csv('Data_Preprocessing/Data.csv')\n",
    "dataset.head(10)"
   ],
   "metadata": {
    "collapsed": false,
    "pycharm": {
     "name": "#%%\n"
    }
   }
  },
  {
   "cell_type": "markdown",
   "source": [
    "> * 自变量（Independent Variable）： 自变量是实验或研究中你主动改变的变量。你通过改变自变量来观察它是否会影响因变量。在一个函数关系中，自变量通常被定义为 x。\n",
    "* 因变量（Dependent Variable）： 因变量是实验或研究中你观察或度量的变量。你想要了解自变量的改变如何影响因变量。在一个函数关系中，因变量通常被定义为 y。"
   ],
   "metadata": {
    "collapsed": false
   }
  },
  {
   "cell_type": "markdown",
   "source": [
    "选取除了最后一列的所有列，并将选取的数据转换为一个 NumPy 数组作为自变量X"
   ],
   "metadata": {
    "collapsed": false
   }
  },
  {
   "cell_type": "code",
   "execution_count": 110,
   "outputs": [],
   "source": [
    "X = dataset.iloc[:, :-1].values"
   ],
   "metadata": {
    "collapsed": false,
    "pycharm": {
     "name": "#%%\n"
    }
   }
  },
  {
   "cell_type": "markdown",
   "source": [
    "最后一列(Purchased)作为因变量y"
   ],
   "metadata": {
    "collapsed": false
   }
  },
  {
   "cell_type": "code",
   "execution_count": 111,
   "outputs": [],
   "source": [
    "y = dataset.iloc[:, 3].values"
   ],
   "metadata": {
    "collapsed": false,
    "pycharm": {
     "name": "#%%\n"
    }
   }
  },
  {
   "cell_type": "markdown",
   "source": [
    "处理缺失数据"
   ],
   "metadata": {
    "collapsed": false
   }
  },
  {
   "cell_type": "code",
   "execution_count": 112,
   "outputs": [
    {
     "data": {
      "text/plain": "array([['France', 44.0, 72000.0],\n       ['Spain', 27.0, 48000.0],\n       ['Germany', 30.0, 54000.0],\n       ['Spain', 38.0, 61000.0],\n       ['Germany', 40.0, 63777.77777777778],\n       ['France', 35.0, 58000.0],\n       ['Spain', 38.77777777777778, 52000.0],\n       ['France', 48.0, 79000.0],\n       ['Germany', 50.0, 83000.0],\n       ['France', 37.0, 67000.0]], dtype=object)"
     },
     "execution_count": 112,
     "metadata": {},
     "output_type": "execute_result"
    }
   ],
   "source": [
    "from sklearn.impute import SimpleImputer\n",
    "imputer = SimpleImputer(missing_values= np.nan, strategy='mean')\n",
    "X[:, 1:3] = imputer.fit_transform(X[:, 1:3])\n",
    "X"
   ],
   "metadata": {
    "collapsed": false,
    "pycharm": {
     "name": "#%%\n"
    }
   }
  },
  {
   "cell_type": "markdown",
   "source": [
    "分类数据, 转义成数字"
   ],
   "metadata": {
    "collapsed": false
   }
  },
  {
   "cell_type": "code",
   "execution_count": 113,
   "outputs": [
    {
     "data": {
      "text/plain": "array([0, 1, 0, 0, 1, 1, 0, 1, 0, 1])"
     },
     "execution_count": 113,
     "metadata": {},
     "output_type": "execute_result"
    }
   ],
   "source": [
    "from sklearn.preprocessing import LabelEncoder\n",
    "labelencoder_y = LabelEncoder()\n",
    "y = labelencoder_y.fit_transform(y)\n",
    "y"
   ],
   "metadata": {
    "collapsed": false,
    "pycharm": {
     "name": "#%%\n"
    }
   }
  },
  {
   "cell_type": "markdown",
   "source": [
    "> One-hot 编码是一种处理类别变量的方法。在这种方法中，每个类别都会被转换为一个新的二元特征（也就是只有 0 和 1 的特征），这个新特征表示原变量是否等于这个类别。\n",
    ">\n",
    "> 举个例子，假设我们有一个类别变量 \"Color\"，它有三个可能的值： \"Red\"、 \"Green\" 和 \"Blue\"。我们可以使用 one-hot 编码来处理这个变量，方法如下：\n",
    ">\n",
    "> 对于 \"Red\"，我们创建一个新的特征 \"Color_Red\"，如果 \"Color\" 是 \"Red\"，那么 \"Color_Red\" 的值为 1，否则为 0。\n",
    ">\n",
    "> 对于 \"Green\"，我们创建一个新的特征 \"Color_Green\"，如果 \"Color\" 是 \"Green\"，那么 \"Color_Green\" 的值为 1，否则为 0。\n",
    ">\n",
    "> 对于 \"Blue\"，我们创建一个新的特征 \"Color_Blue\"，如果 \"Color\" 是 \"Blue\"，那么 \"Color_Blue\" 的值为 1，否则为 0。\n",
    ">\n",
    "> 这样，原来的 \"Color\" 变量就被转换为了三个二元特征 \"Color_Red\"、 \"Color_Green\" 和 \"Color_Blue\"。\n",
    ">\n",
    "> 这种方法被称为 \"one-hot\" 编码，因为对于每个观察值，只有一个特征的值为 1（\"hot\"），其他特征的值都为 0。\n",
    ">\n",
    "> One-hot 编码是处理类别变量的常用方法，它允许我们在模型中使用类别数据，而不需要假设类别之间有顺序关系。但是，如果一个变量有很多类别，one-hot 编码可能会导致数据维度的显著增加。"
   ],
   "metadata": {
    "collapsed": false
   }
  },
  {
   "cell_type": "code",
   "execution_count": 114,
   "outputs": [
    {
     "data": {
      "text/plain": "array([[1.0, 0.0, 0.0, 44.0, 72000.0],\n       [0.0, 0.0, 1.0, 27.0, 48000.0],\n       [0.0, 1.0, 0.0, 30.0, 54000.0],\n       [0.0, 0.0, 1.0, 38.0, 61000.0],\n       [0.0, 1.0, 0.0, 40.0, 63777.77777777778],\n       [1.0, 0.0, 0.0, 35.0, 58000.0],\n       [0.0, 0.0, 1.0, 38.77777777777778, 52000.0],\n       [1.0, 0.0, 0.0, 48.0, 79000.0],\n       [0.0, 1.0, 0.0, 50.0, 83000.0],\n       [1.0, 0.0, 0.0, 37.0, 67000.0]], dtype=object)"
     },
     "execution_count": 114,
     "metadata": {},
     "output_type": "execute_result"
    }
   ],
   "source": [
    "from sklearn.preprocessing import OneHotEncoder\n",
    "onehotencoder = OneHotEncoder()\n",
    "X_reshaped = X[:, 0].reshape(-1, 1)  # 转换为二维数组\n",
    "X_onehot = onehotencoder.fit_transform(X_reshaped).toarray()  # 对第一列进行 one-hot 编码\n",
    "\n",
    "# 如果你还想保留原来的其他列，你可以将它们和 one-hot 编码的结果合并在一起：\n",
    "X_new = np.concatenate([X_onehot, X[:, 1:]], axis=1)\n",
    "X_new"
   ],
   "metadata": {
    "collapsed": false,
    "pycharm": {
     "name": "#%%\n"
    }
   }
  },
  {
   "cell_type": "markdown",
   "source": [
    "拆分训练数据和测试数据集"
   ],
   "metadata": {
    "collapsed": false
   }
  },
  {
   "cell_type": "code",
   "execution_count": 117,
   "outputs": [
    {
     "data": {
      "text/plain": "array([[0.0, 1.0, 0.0, 40.0, 63777.77777777778],\n       [1.0, 0.0, 0.0, 37.0, 67000.0],\n       [0.0, 0.0, 1.0, 27.0, 48000.0],\n       [0.0, 0.0, 1.0, 38.77777777777778, 52000.0],\n       [1.0, 0.0, 0.0, 48.0, 79000.0],\n       [0.0, 0.0, 1.0, 38.0, 61000.0],\n       [1.0, 0.0, 0.0, 44.0, 72000.0],\n       [1.0, 0.0, 0.0, 35.0, 58000.0]], dtype=object)"
     },
     "execution_count": 117,
     "metadata": {},
     "output_type": "execute_result"
    }
   ],
   "source": [
    "from sklearn.model_selection import train_test_split\n",
    "\n",
    "X_train, X_test, y_train, y_test = train_test_split(X_new, y, test_size=0.2, random_state=0)\n",
    "X_train"
   ],
   "metadata": {
    "collapsed": false,
    "pycharm": {
     "name": "#%%\n"
    }
   }
  },
  {
   "cell_type": "code",
   "execution_count": 118,
   "outputs": [
    {
     "data": {
      "text/plain": "array([[0.0, 1.0, 0.0, 30.0, 54000.0],\n       [0.0, 1.0, 0.0, 50.0, 83000.0]], dtype=object)"
     },
     "execution_count": 118,
     "metadata": {},
     "output_type": "execute_result"
    }
   ],
   "source": [
    "X_test\n"
   ],
   "metadata": {
    "collapsed": false,
    "pycharm": {
     "name": "#%%\n"
    }
   }
  },
  {
   "cell_type": "markdown",
   "source": [
    "特征缩放(年龄和薪酬调整到统一尺度)\n",
    "> 它可以将所有特征调整到相同的尺度。特征缩放的主要目的是避免某些特征由于其数值范围较大而在模型中占据过大的权重"
   ],
   "metadata": {
    "collapsed": false,
    "pycharm": {
     "name": "#%% md\n"
    }
   }
  },
  {
   "cell_type": "code",
   "execution_count": 119,
   "outputs": [
    {
     "data": {
      "text/plain": "array([[-1.        ,  2.64575131, -0.77459667,  0.26306757,  0.12381479],\n       [ 1.        , -0.37796447, -0.77459667, -0.25350148,  0.46175632],\n       [-1.        , -0.37796447,  1.29099445, -1.97539832, -1.53093341],\n       [-1.        , -0.37796447,  1.29099445,  0.05261351, -1.11141978],\n       [ 1.        , -0.37796447, -0.77459667,  1.64058505,  1.7202972 ],\n       [-1.        , -0.37796447,  1.29099445, -0.0813118 , -0.16751412],\n       [ 1.        , -0.37796447, -0.77459667,  0.95182631,  0.98614835],\n       [ 1.        , -0.37796447, -0.77459667, -0.59788085, -0.48214934]])"
     },
     "execution_count": 119,
     "metadata": {},
     "output_type": "execute_result"
    }
   ],
   "source": [
    "from sklearn.preprocessing import StandardScaler\n",
    "sc_X = StandardScaler()\n",
    "X_train = sc_X.fit_transform(X_train)\n",
    "X_test = sc_X.transform(X_test)\n",
    "X_train"
   ],
   "metadata": {
    "collapsed": false,
    "pycharm": {
     "name": "#%%\n"
    }
   }
  }
 ],
 "metadata": {
  "kernelspec": {
   "name": "pycharm-ca772309",
   "language": "python",
   "display_name": "PyCharm (Machine Learning A-Z Chinese Template Folder)"
  },
  "language_info": {
   "codemirror_mode": {
    "name": "ipython",
    "version": 2
   },
   "file_extension": ".py",
   "mimetype": "text/x-python",
   "name": "python",
   "nbconvert_exporter": "python",
   "pygments_lexer": "ipython2",
   "version": "2.7.6"
  }
 },
 "nbformat": 4,
 "nbformat_minor": 0
}